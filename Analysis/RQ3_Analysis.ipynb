{
 "cells": [
  {
   "cell_type": "code",
   "execution_count": 25,
   "id": "1c5eeabd",
   "metadata": {},
   "outputs": [],
   "source": [
    "import seaborn as sns\n",
    "import numpy as np\n",
    "import pandas as pd\n",
    "from matplotlib import pyplot as plt\n",
    "import matplotlib.ticker as mtick"
   ]
  },
  {
   "cell_type": "code",
   "execution_count": 26,
   "id": "19124c8e",
   "metadata": {},
   "outputs": [
    {
     "data": {
      "text/html": [
       "<div>\n",
       "<style scoped>\n",
       "    .dataframe tbody tr th:only-of-type {\n",
       "        vertical-align: middle;\n",
       "    }\n",
       "\n",
       "    .dataframe tbody tr th {\n",
       "        vertical-align: top;\n",
       "    }\n",
       "\n",
       "    .dataframe thead th {\n",
       "        text-align: right;\n",
       "    }\n",
       "</style>\n",
       "<table border=\"1\" class=\"dataframe\">\n",
       "  <thead>\n",
       "    <tr style=\"text-align: right;\">\n",
       "      <th></th>\n",
       "      <th>Model Trainning</th>\n",
       "      <th>Data Loading</th>\n",
       "      <th>Data Processing</th>\n",
       "      <th>Model Evaluation</th>\n",
       "      <th>Model Deployment</th>\n",
       "      <th>Non-ML Pipeline</th>\n",
       "      <th>Unclassified</th>\n",
       "    </tr>\n",
       "  </thead>\n",
       "  <tbody>\n",
       "    <tr>\n",
       "      <th>0</th>\n",
       "      <td>2</td>\n",
       "      <td>1</td>\n",
       "      <td>3</td>\n",
       "      <td>2</td>\n",
       "      <td>1</td>\n",
       "      <td>2</td>\n",
       "      <td>0</td>\n",
       "    </tr>\n",
       "    <tr>\n",
       "      <th>1</th>\n",
       "      <td>1</td>\n",
       "      <td>1</td>\n",
       "      <td>6</td>\n",
       "      <td>1</td>\n",
       "      <td>7</td>\n",
       "      <td>1</td>\n",
       "      <td>0</td>\n",
       "    </tr>\n",
       "    <tr>\n",
       "      <th>2</th>\n",
       "      <td>2</td>\n",
       "      <td>2</td>\n",
       "      <td>3</td>\n",
       "      <td>1</td>\n",
       "      <td>1</td>\n",
       "      <td>1</td>\n",
       "      <td>0</td>\n",
       "    </tr>\n",
       "    <tr>\n",
       "      <th>3</th>\n",
       "      <td>1</td>\n",
       "      <td>2</td>\n",
       "      <td>1</td>\n",
       "      <td>2</td>\n",
       "      <td>1</td>\n",
       "      <td>2</td>\n",
       "      <td>0</td>\n",
       "    </tr>\n",
       "    <tr>\n",
       "      <th>4</th>\n",
       "      <td>2</td>\n",
       "      <td>2</td>\n",
       "      <td>1</td>\n",
       "      <td>1</td>\n",
       "      <td>2</td>\n",
       "      <td>2</td>\n",
       "      <td>0</td>\n",
       "    </tr>\n",
       "    <tr>\n",
       "      <th>...</th>\n",
       "      <td>...</td>\n",
       "      <td>...</td>\n",
       "      <td>...</td>\n",
       "      <td>...</td>\n",
       "      <td>...</td>\n",
       "      <td>...</td>\n",
       "      <td>...</td>\n",
       "    </tr>\n",
       "    <tr>\n",
       "      <th>607</th>\n",
       "      <td>2</td>\n",
       "      <td>0</td>\n",
       "      <td>0</td>\n",
       "      <td>0</td>\n",
       "      <td>0</td>\n",
       "      <td>0</td>\n",
       "      <td>0</td>\n",
       "    </tr>\n",
       "    <tr>\n",
       "      <th>608</th>\n",
       "      <td>2</td>\n",
       "      <td>0</td>\n",
       "      <td>0</td>\n",
       "      <td>0</td>\n",
       "      <td>0</td>\n",
       "      <td>0</td>\n",
       "      <td>0</td>\n",
       "    </tr>\n",
       "    <tr>\n",
       "      <th>609</th>\n",
       "      <td>2</td>\n",
       "      <td>0</td>\n",
       "      <td>0</td>\n",
       "      <td>0</td>\n",
       "      <td>0</td>\n",
       "      <td>0</td>\n",
       "      <td>0</td>\n",
       "    </tr>\n",
       "    <tr>\n",
       "      <th>610</th>\n",
       "      <td>10</td>\n",
       "      <td>0</td>\n",
       "      <td>0</td>\n",
       "      <td>0</td>\n",
       "      <td>0</td>\n",
       "      <td>0</td>\n",
       "      <td>0</td>\n",
       "    </tr>\n",
       "    <tr>\n",
       "      <th>611</th>\n",
       "      <td>50</td>\n",
       "      <td>20</td>\n",
       "      <td>25</td>\n",
       "      <td>15</td>\n",
       "      <td>10</td>\n",
       "      <td>30</td>\n",
       "      <td>260</td>\n",
       "    </tr>\n",
       "  </tbody>\n",
       "</table>\n",
       "<p>612 rows × 7 columns</p>\n",
       "</div>"
      ],
      "text/plain": [
       "     Model Trainning  Data Loading  Data Processing  Model Evaluation  \\\n",
       "0                  2             1                3                 2   \n",
       "1                  1             1                6                 1   \n",
       "2                  2             2                3                 1   \n",
       "3                  1             2                1                 2   \n",
       "4                  2             2                1                 1   \n",
       "..               ...           ...              ...               ...   \n",
       "607                2             0                0                 0   \n",
       "608                2             0                0                 0   \n",
       "609                2             0                0                 0   \n",
       "610               10             0                0                 0   \n",
       "611               50            20               25                15   \n",
       "\n",
       "     Model Deployment  Non-ML Pipeline  Unclassified  \n",
       "0                   1                2             0  \n",
       "1                   7                1             0  \n",
       "2                   1                1             0  \n",
       "3                   1                2             0  \n",
       "4                   2                2             0  \n",
       "..                ...              ...           ...  \n",
       "607                 0                0             0  \n",
       "608                 0                0             0  \n",
       "609                 0                0             0  \n",
       "610                 0                0             0  \n",
       "611                10               30           260  \n",
       "\n",
       "[612 rows x 7 columns]"
      ]
     },
     "execution_count": 26,
     "metadata": {},
     "output_type": "execute_result"
    }
   ],
   "source": [
    "data = pd.read_csv('ML-PIPELINE_Log.csv', sep=';')\n",
    "data"
   ]
  },
  {
   "cell_type": "code",
   "execution_count": 27,
   "id": "1ff7a3c5",
   "metadata": {},
   "outputs": [],
   "source": [
    "train = data[\"Model Trainning\"].sum()\n",
    "load =  data[\"Data Loading\"].sum()\n",
    "process = data[\"Data Processing\"].sum()\n",
    "evall = data[\"Model Evaluation\"].sum()\n",
    "deploy = data[\"Model Deployment\"].sum()\n",
    "non_ml = data[\"Non-ML Pipeline\"].sum()\n",
    "Unclassified = data[\"Unclassified\"].sum()"
   ]
  },
  {
   "cell_type": "code",
   "execution_count": 28,
   "id": "91d81ff8",
   "metadata": {},
   "outputs": [
    {
     "data": {
      "text/plain": [
       "835"
      ]
     },
     "execution_count": 28,
     "metadata": {},
     "output_type": "execute_result"
    }
   ],
   "source": [
    "load"
   ]
  },
  {
   "cell_type": "code",
   "execution_count": 29,
   "id": "d627106f",
   "metadata": {},
   "outputs": [
    {
     "name": "stdout",
     "output_type": "stream",
     "text": [
      "Total of sample analyse : 5772\n"
     ]
    }
   ],
   "source": [
    "total = train+load+process+evall+deploy+non_ml+Unclassified\n",
    "print(\"Total of sample analyse : {}\".format(total))"
   ]
  },
  {
   "cell_type": "code",
   "execution_count": 30,
   "id": "95d786f0",
   "metadata": {},
   "outputs": [
    {
     "data": {
      "text/plain": [
       "20266"
      ]
     },
     "execution_count": 30,
     "metadata": {},
     "output_type": "execute_result"
    }
   ],
   "source": [
    "log = pd.read_csv(r'C:\\Users\\fpatr\\PycharmProjects\\GitHub\\data\\outputs\\AI_logging_data.csv', sep=';')\n",
    "total_log = log[\"occurrence\"].sum()\n",
    "total_log"
   ]
  },
  {
   "cell_type": "code",
   "execution_count": 31,
   "id": "a2e74009",
   "metadata": {},
   "outputs": [
    {
     "name": "stdout",
     "output_type": "stream",
     "text": [
      "Percentage of logging statement analyses : 28.48%\n"
     ]
    }
   ],
   "source": [
    "print(\"Percentage of logging statement analyses : {0:.2%}\".format(total/total_log))"
   ]
  },
  {
   "cell_type": "code",
   "execution_count": 32,
   "id": "725be7d7",
   "metadata": {},
   "outputs": [
    {
     "name": "stdout",
     "output_type": "stream",
     "text": [
      "Percentage of logging statement in Model Trainning : 35.83%\n"
     ]
    }
   ],
   "source": [
    "print(\"Percentage of logging statement in Model Trainning : {0:.2%}\".format(train/total))"
   ]
  },
  {
   "cell_type": "code",
   "execution_count": 33,
   "id": "efd9e111",
   "metadata": {},
   "outputs": [
    {
     "name": "stdout",
     "output_type": "stream",
     "text": [
      "Percentage of logging statement in Data Loading : 14.47%\n"
     ]
    }
   ],
   "source": [
    "print(\"Percentage of logging statement in Data Loading : {0:.2%}\".format(load/total))"
   ]
  },
  {
   "cell_type": "code",
   "execution_count": 34,
   "id": "947d2ae8",
   "metadata": {},
   "outputs": [
    {
     "name": "stdout",
     "output_type": "stream",
     "text": [
      "Percentage of logging statement in Data Processing : 15.84%\n"
     ]
    }
   ],
   "source": [
    "print(\"Percentage of logging statement in Data Processing : {0:.2%}\".format(process/total))"
   ]
  },
  {
   "cell_type": "code",
   "execution_count": 35,
   "id": "dbded989",
   "metadata": {},
   "outputs": [
    {
     "name": "stdout",
     "output_type": "stream",
     "text": [
      "Percentage of logging statement in Model Evaluation : 6.20%\n"
     ]
    }
   ],
   "source": [
    "print(\"Percentage of logging statement in Model Evaluation : {0:.2%}\".format(evall/total))"
   ]
  },
  {
   "cell_type": "code",
   "execution_count": 36,
   "id": "8f5edbd2",
   "metadata": {},
   "outputs": [
    {
     "name": "stdout",
     "output_type": "stream",
     "text": [
      "Percentage of logging statement in Model Deployment : 3.66%\n"
     ]
    }
   ],
   "source": [
    "print(\"Percentage of logging statement in Model Deployment : {0:.2%}\".format(deploy/total))"
   ]
  },
  {
   "cell_type": "code",
   "execution_count": 37,
   "id": "097c7d08",
   "metadata": {},
   "outputs": [
    {
     "name": "stdout",
     "output_type": "stream",
     "text": [
      "Percentage of logging statement in Non-ML Pipeline : 19.51%\n"
     ]
    }
   ],
   "source": [
    "print(\"Percentage of logging statement in Non-ML Pipeline : {0:.2%}\".format(non_ml/total))"
   ]
  },
  {
   "cell_type": "code",
   "execution_count": 38,
   "id": "ee87f33e",
   "metadata": {},
   "outputs": [
    {
     "name": "stdout",
     "output_type": "stream",
     "text": [
      "Percentage of logging statement unclassied : 4.50%\n"
     ]
    }
   ],
   "source": [
    "print(\"Percentage of logging statement unclassied : {0:.2%}\".format(Unclassified/total))"
   ]
  },
  {
   "cell_type": "code",
   "execution_count": 41,
   "id": "6336e25c",
   "metadata": {},
   "outputs": [
    {
     "data": {
      "image/png": "[encoded data removed]",
      "text/plain": [
       "<Figure size 864x576 with 1 Axes>"
      ]
     },
     "metadata": {
      "needs_background": "light"
     },
     "output_type": "display_data"
    }
   ],
   "source": [
    "# Create a sample dataframe with an text index\n",
    "plt.figure(figsize=(12,8))\n",
    "plotdata = pd.DataFrame(\n",
    "    {\"percentage\": [35.83, 19.51, 15.84, 14.47, 6.20, 3.66, 4.50]}, \n",
    "    index=[\"Model \\n Trainning\", \"Non-ML \\n Pipeline\", \"Data \\n Processing\", \"Data \\n Loading\", \"Model \\n Evaluation\", \"Model \\n Deployment\", \"Unclassified\"])\n",
    "# Plot a bar chart\n",
    "ax = plotdata['percentage'].plot(kind=\"bar\")\n",
    "#plt.title(\"Distribution of logging statement accross ML components\")\n",
    "ax.yaxis.set_major_formatter(mtick.PercentFormatter())\n",
    "# plt.xlabel(\"ML components\")\n",
    "plt.ylabel(\"Percentage [%]\")\n",
    "plt.savefig('logging_component_distibution.pdf', dpi=400)"
   ]
  },
  {
   "cell_type": "code",
   "execution_count": null,
   "id": "c17e78bb",
   "metadata": {},
   "outputs": [],
   "source": []
  }
 ],
 "metadata": {
  "kernelspec": {
   "display_name": "Python 3 (ipykernel)",
   "language": "python",
   "name": "python3"
  },
  "language_info": {
   "codemirror_mode": {
    "name": "ipython",
    "version": 3
   },
   "file_extension": ".py",
   "mimetype": "text/x-python",
   "name": "python",
   "nbconvert_exporter": "python",
   "pygments_lexer": "ipython3",
   "version": "3.9.12"
  }
 },
 "nbformat": 4,
 "nbformat_minor": 5
}
