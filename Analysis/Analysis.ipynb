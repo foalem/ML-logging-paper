{
 "cells": [
  {
   "cell_type": "code",
   "execution_count": 2,
   "id": "d650feb9",
   "metadata": {},
   "outputs": [],
   "source": [
    "import seaborn as sns\n",
    "import numpy as np\n",
    "import pandas as pd\n",
    "from matplotlib import pyplot as plt"
   ]
  },
  {
   "cell_type": "code",
   "execution_count": 2,
   "id": "c7cfbd2b",
   "metadata": {},
   "outputs": [
    {
     "data": {
      "text/html": [
       "<div>\n",
       "<style scoped>\n",
       "    .dataframe tbody tr th:only-of-type {\n",
       "        vertical-align: middle;\n",
       "    }\n",
       "\n",
       "    .dataframe tbody tr th {\n",
       "        vertical-align: top;\n",
       "    }\n",
       "\n",
       "    .dataframe thead th {\n",
       "        text-align: right;\n",
       "    }\n",
       "</style>\n",
       "<table border=\"1\" class=\"dataframe\">\n",
       "  <thead>\n",
       "    <tr style=\"text-align: right;\">\n",
       "      <th></th>\n",
       "      <th>project_name</th>\n",
       "      <th>LOC</th>\n",
       "      <th>occurrence</th>\n",
       "      <th>log_density</th>\n",
       "    </tr>\n",
       "  </thead>\n",
       "  <tbody>\n",
       "    <tr>\n",
       "      <th>0</th>\n",
       "      <td>adversarial-training</td>\n",
       "      <td>11320</td>\n",
       "      <td>5.0</td>\n",
       "      <td>2264.000000</td>\n",
       "    </tr>\n",
       "    <tr>\n",
       "      <th>1</th>\n",
       "      <td>AI-Training</td>\n",
       "      <td>22978</td>\n",
       "      <td>190.0</td>\n",
       "      <td>120.936842</td>\n",
       "    </tr>\n",
       "    <tr>\n",
       "      <th>2</th>\n",
       "      <td>ailearning</td>\n",
       "      <td>10898</td>\n",
       "      <td>4.0</td>\n",
       "      <td>2724.500000</td>\n",
       "    </tr>\n",
       "    <tr>\n",
       "      <th>3</th>\n",
       "      <td>Air-Pollution</td>\n",
       "      <td>872019</td>\n",
       "      <td>1839.0</td>\n",
       "      <td>474.181077</td>\n",
       "    </tr>\n",
       "    <tr>\n",
       "      <th>4</th>\n",
       "      <td>attention-lvcsr</td>\n",
       "      <td>142601</td>\n",
       "      <td>317.0</td>\n",
       "      <td>449.845426</td>\n",
       "    </tr>\n",
       "    <tr>\n",
       "      <th>...</th>\n",
       "      <td>...</td>\n",
       "      <td>...</td>\n",
       "      <td>...</td>\n",
       "      <td>...</td>\n",
       "    </tr>\n",
       "    <tr>\n",
       "      <th>105</th>\n",
       "      <td>Vigilantes</td>\n",
       "      <td>2010902</td>\n",
       "      <td>4679.0</td>\n",
       "      <td>429.771746</td>\n",
       "    </tr>\n",
       "    <tr>\n",
       "      <th>106</th>\n",
       "      <td>VITAE</td>\n",
       "      <td>2899</td>\n",
       "      <td>NaN</td>\n",
       "      <td>NaN</td>\n",
       "    </tr>\n",
       "    <tr>\n",
       "      <th>107</th>\n",
       "      <td>Voice-Privacy-Challenge-2022</td>\n",
       "      <td>13726</td>\n",
       "      <td>1.0</td>\n",
       "      <td>13726.000000</td>\n",
       "    </tr>\n",
       "    <tr>\n",
       "      <th>108</th>\n",
       "      <td>wikum</td>\n",
       "      <td>8727</td>\n",
       "      <td>4.0</td>\n",
       "      <td>2181.750000</td>\n",
       "    </tr>\n",
       "    <tr>\n",
       "      <th>109</th>\n",
       "      <td>zr-obp</td>\n",
       "      <td>32461</td>\n",
       "      <td>13.0</td>\n",
       "      <td>2497.000000</td>\n",
       "    </tr>\n",
       "  </tbody>\n",
       "</table>\n",
       "<p>110 rows × 4 columns</p>\n",
       "</div>"
      ],
      "text/plain": [
       "                     project_name      LOC  occurrence   log_density\n",
       "0            adversarial-training    11320         5.0   2264.000000\n",
       "1                     AI-Training    22978       190.0    120.936842\n",
       "2                      ailearning    10898         4.0   2724.500000\n",
       "3                   Air-Pollution   872019      1839.0    474.181077\n",
       "4                 attention-lvcsr   142601       317.0    449.845426\n",
       "..                            ...      ...         ...           ...\n",
       "105                    Vigilantes  2010902      4679.0    429.771746\n",
       "106                         VITAE     2899         NaN           NaN\n",
       "107  Voice-Privacy-Challenge-2022    13726         1.0  13726.000000\n",
       "108                         wikum     8727         4.0   2181.750000\n",
       "109                        zr-obp    32461        13.0   2497.000000\n",
       "\n",
       "[110 rows x 4 columns]"
      ]
     },
     "execution_count": 2,
     "metadata": {},
     "output_type": "execute_result"
    }
   ],
   "source": [
    "data = pd.read_csv('log_density.csv', sep=',')\n",
    "data"
   ]
  },
  {
   "cell_type": "code",
   "execution_count": 3,
   "id": "25c17b5b",
   "metadata": {},
   "outputs": [
    {
     "data": {
      "text/plain": [
       "110"
      ]
     },
     "execution_count": 3,
     "metadata": {},
     "output_type": "execute_result"
    }
   ],
   "source": [
    "data.shape[0]"
   ]
  },
  {
   "cell_type": "code",
   "execution_count": 4,
   "id": "8572cda3",
   "metadata": {},
   "outputs": [
    {
     "name": "stdout",
     "output_type": "stream",
     "text": [
      "Percentage of project with at least one log 78.18%\n"
     ]
    }
   ],
   "source": [
    "nb_project_no_log = data.shape[0] - data.dropna().shape[0]\n",
    "print(\"Percentage of project with at least one log {:.2%}\".format((110 - nb_project_no_log)/data.shape[0]))"
   ]
  },
  {
   "cell_type": "code",
   "execution_count": 5,
   "id": "e6f4257f",
   "metadata": {},
   "outputs": [
    {
     "name": "stdout",
     "output_type": "stream",
     "text": [
      "Log density :290.3467658505345\n"
     ]
    }
   ],
   "source": [
    "log_density = data['LOC'].dropna().sum()/data['occurrence'].dropna().sum()\n",
    "print(\"Log density :{}\".format(log_density))"
   ]
  },
  {
   "cell_type": "code",
   "execution_count": 6,
   "id": "ef4eeda6",
   "metadata": {},
   "outputs": [
    {
     "data": {
      "text/plain": [
       "(86, 4)"
      ]
     },
     "execution_count": 6,
     "metadata": {},
     "output_type": "execute_result"
    }
   ],
   "source": [
    "data_density_ = data.dropna()\n",
    "data_density_.shape"
   ]
  },
  {
   "cell_type": "code",
   "execution_count": 7,
   "id": "47ac8636",
   "metadata": {},
   "outputs": [
    {
     "data": {
      "image/png": "[encoded data removed]",
      "text/plain": [
       "<Figure size 432x576 with 1 Axes>"
      ]
     },
     "metadata": {
      "needs_background": "light"
     },
     "output_type": "display_data"
    }
   ],
   "source": [
    "plt.figure(figsize=(6,8))\n",
    "sns_plot = sns.boxplot(y=data_density_[\"occurrence\"], )\n",
    "plt.ylabel('#logging')\n",
    "plt.xlabel('Project')\n",
    "plt.ylim(0, 2000)\n",
    "plt.title('NL distribution')\n",
    "plt.savefig('logging_distribution_by_project.png', dpi=400)"
   ]
  },
  {
   "cell_type": "code",
   "execution_count": 8,
   "id": "0e0417ce",
   "metadata": {},
   "outputs": [
    {
     "data": {
      "image/png": "[encoded data removed]",
      "text/plain": [
       "<Figure size 432x576 with 1 Axes>"
      ]
     },
     "metadata": {
      "needs_background": "light"
     },
     "output_type": "display_data"
    }
   ],
   "source": [
    "plt.figure(figsize=(6,8))\n",
    "sns_plot = sns.boxplot(y=data_density_[\"LOC\"], )\n",
    "plt.ylabel('#LOC')\n",
    "plt.xlabel('Project')\n",
    "plt.title('SLOC distribution')\n",
    "plt.ylim(0, 138000)\n",
    "plt.savefig('LOC_distribution_by_project.png', dpi=400)"
   ]
  },
  {
   "cell_type": "code",
   "execution_count": 9,
   "id": "1a179dbe",
   "metadata": {},
   "outputs": [
    {
     "data": {
      "image/png": "[encoded data removed]",
      "text/plain": [
       "<Figure size 432x576 with 1 Axes>"
      ]
     },
     "metadata": {
      "needs_background": "light"
     },
     "output_type": "display_data"
    }
   ],
   "source": [
    "\n",
    "plt.figure(figsize=(6,8))\n",
    "sns_plot = sns.boxplot(y=data_density_[\"log_density\"], )\n",
    "plt.ylabel('Log density')\n",
    "plt.xlabel('Project')\n",
    "plt.ylim(0, 2600)\n",
    "plt.title('Log density distribution')\n",
    "plt.savefig('log_distribution_by_project.png', dpi=400)"
   ]
  },
  {
   "cell_type": "code",
   "execution_count": 10,
   "id": "5696a669",
   "metadata": {},
   "outputs": [
    {
     "data": {
      "text/html": [
       "<div>\n",
       "<style scoped>\n",
       "    .dataframe tbody tr th:only-of-type {\n",
       "        vertical-align: middle;\n",
       "    }\n",
       "\n",
       "    .dataframe tbody tr th {\n",
       "        vertical-align: top;\n",
       "    }\n",
       "\n",
       "    .dataframe thead th {\n",
       "        text-align: right;\n",
       "    }\n",
       "</style>\n",
       "<table border=\"1\" class=\"dataframe\">\n",
       "  <thead>\n",
       "    <tr style=\"text-align: right;\">\n",
       "      <th></th>\n",
       "      <th>project_name</th>\n",
       "      <th>type</th>\n",
       "      <th>logging_statement</th>\n",
       "    </tr>\n",
       "  </thead>\n",
       "  <tbody>\n",
       "    <tr>\n",
       "      <th>0</th>\n",
       "      <td>adversarial-training</td>\n",
       "      <td>python</td>\n",
       "      <td>logger.add_series</td>\n",
       "    </tr>\n",
       "    <tr>\n",
       "      <th>1</th>\n",
       "      <td>adversarial-training</td>\n",
       "      <td>python</td>\n",
       "      <td>logger.data_count</td>\n",
       "    </tr>\n",
       "    <tr>\n",
       "      <th>2</th>\n",
       "      <td>adversarial-training</td>\n",
       "      <td>python</td>\n",
       "      <td>logger.add_series</td>\n",
       "    </tr>\n",
       "    <tr>\n",
       "      <th>3</th>\n",
       "      <td>adversarial-training</td>\n",
       "      <td>python</td>\n",
       "      <td>logger.log</td>\n",
       "    </tr>\n",
       "    <tr>\n",
       "      <th>4</th>\n",
       "      <td>adversarial-training</td>\n",
       "      <td>python</td>\n",
       "      <td>logger.log</td>\n",
       "    </tr>\n",
       "  </tbody>\n",
       "</table>\n",
       "</div>"
      ],
      "text/plain": [
       "           project_name    type  logging_statement\n",
       "0  adversarial-training  python  logger.add_series\n",
       "1  adversarial-training  python  logger.data_count\n",
       "2  adversarial-training  python  logger.add_series\n",
       "3  adversarial-training  python         logger.log\n",
       "4  adversarial-training  python         logger.log"
      ]
     },
     "execution_count": 10,
     "metadata": {},
     "output_type": "execute_result"
    }
   ],
   "source": [
    "data_ = pd.read_csv('ML-logging.csv', sep=';')\n",
    "data_.head()"
   ]
  },
  {
   "cell_type": "code",
   "execution_count": 5,
   "id": "101b3b15",
   "metadata": {},
   "outputs": [
    {
     "data": {
      "image/png": "[encoded data removed]",
      "text/plain": [
       "<Figure size 576x432 with 1 Axes>"
      ]
     },
     "metadata": {
      "needs_background": "light"
     },
     "output_type": "display_data"
    }
   ],
   "source": [
    "plt.figure(figsize=(8,6))\n",
    "sns_plot = sns.countplot(x='type', \n",
    "            data=data_\n",
    "           );\n",
    "plt.xlabel('Logging type')\n",
    "plt.ylabel('number of logging')\n",
    "for c in sns_plot.containers:\n",
    "    \n",
    "    # custom label calculates percent and add an empty string so 0 value bars don't have a number\n",
    "    labels = [f'{h/data_.type.count()*100:0.1f}%' if (h := v.get_height()) > 0 else '' for v in c]\n",
    "    \n",
    "    sns_plot.bar_label(c, labels=labels, label_type='edge')\n",
    "plt.savefig('logging_distibution.png', dpi=400)"
   ]
  },
  {
   "cell_type": "code",
   "execution_count": 3,
   "id": "24575250",
   "metadata": {},
   "outputs": [
    {
     "data": {
      "text/html": [
       "<div>\n",
       "<style scoped>\n",
       "    .dataframe tbody tr th:only-of-type {\n",
       "        vertical-align: middle;\n",
       "    }\n",
       "\n",
       "    .dataframe tbody tr th {\n",
       "        vertical-align: top;\n",
       "    }\n",
       "\n",
       "    .dataframe thead th {\n",
       "        text-align: right;\n",
       "    }\n",
       "</style>\n",
       "<table border=\"1\" class=\"dataframe\">\n",
       "  <thead>\n",
       "    <tr style=\"text-align: right;\">\n",
       "      <th></th>\n",
       "      <th>project_name</th>\n",
       "      <th>number_file</th>\n",
       "      <th>SLOC</th>\n",
       "    </tr>\n",
       "  </thead>\n",
       "  <tbody>\n",
       "    <tr>\n",
       "      <th>0</th>\n",
       "      <td>adversarial-training</td>\n",
       "      <td>62</td>\n",
       "      <td>11320</td>\n",
       "    </tr>\n",
       "    <tr>\n",
       "      <th>1</th>\n",
       "      <td>AI-Training</td>\n",
       "      <td>128</td>\n",
       "      <td>22978</td>\n",
       "    </tr>\n",
       "    <tr>\n",
       "      <th>2</th>\n",
       "      <td>ailearning</td>\n",
       "      <td>131</td>\n",
       "      <td>10898</td>\n",
       "    </tr>\n",
       "    <tr>\n",
       "      <th>3</th>\n",
       "      <td>Air-Pollution</td>\n",
       "      <td>3248</td>\n",
       "      <td>872019</td>\n",
       "    </tr>\n",
       "    <tr>\n",
       "      <th>4</th>\n",
       "      <td>attention-lvcsr</td>\n",
       "      <td>613</td>\n",
       "      <td>142601</td>\n",
       "    </tr>\n",
       "  </tbody>\n",
       "</table>\n",
       "</div>"
      ],
      "text/plain": [
       "           project_name  number_file    SLOC\n",
       "0  adversarial-training           62   11320\n",
       "1           AI-Training          128   22978\n",
       "2            ailearning          131   10898\n",
       "3         Air-Pollution         3248  872019\n",
       "4       attention-lvcsr          613  142601"
      ]
     },
     "execution_count": 3,
     "metadata": {},
     "output_type": "execute_result"
    }
   ],
   "source": [
    "df = pd.read_csv('RQ1project_size2.csv',sep=',')\n",
    "df.head()"
   ]
  },
  {
   "cell_type": "code",
   "execution_count": 4,
   "id": "6e99b9f9",
   "metadata": {},
   "outputs": [
    {
     "data": {
      "text/html": [
       "<div>\n",
       "<style scoped>\n",
       "    .dataframe tbody tr th:only-of-type {\n",
       "        vertical-align: middle;\n",
       "    }\n",
       "\n",
       "    .dataframe tbody tr th {\n",
       "        vertical-align: top;\n",
       "    }\n",
       "\n",
       "    .dataframe thead th {\n",
       "        text-align: right;\n",
       "    }\n",
       "</style>\n",
       "<table border=\"1\" class=\"dataframe\">\n",
       "  <thead>\n",
       "    <tr style=\"text-align: right;\">\n",
       "      <th></th>\n",
       "      <th>project_name</th>\n",
       "      <th>num_stars</th>\n",
       "      <th>num_forks</th>\n",
       "      <th>num_contributor</th>\n",
       "      <th>num_commit</th>\n",
       "    </tr>\n",
       "  </thead>\n",
       "  <tbody>\n",
       "    <tr>\n",
       "      <th>0</th>\n",
       "      <td>OmdenaAI/omdena-philippines-renewable</td>\n",
       "      <td>32</td>\n",
       "      <td>7</td>\n",
       "      <td>11</td>\n",
       "      <td>129</td>\n",
       "    </tr>\n",
       "    <tr>\n",
       "      <th>1</th>\n",
       "      <td>autorope/donkeycar</td>\n",
       "      <td>2216</td>\n",
       "      <td>1144</td>\n",
       "      <td>110</td>\n",
       "      <td>2126</td>\n",
       "    </tr>\n",
       "    <tr>\n",
       "      <th>2</th>\n",
       "      <td>ericlavigne/CarND-Capstone-Wolf-Pack</td>\n",
       "      <td>40</td>\n",
       "      <td>23</td>\n",
       "      <td>15</td>\n",
       "      <td>221</td>\n",
       "    </tr>\n",
       "    <tr>\n",
       "      <th>3</th>\n",
       "      <td>anton164/predicting-citation-counts</td>\n",
       "      <td>2</td>\n",
       "      <td>0</td>\n",
       "      <td>3</td>\n",
       "      <td>176</td>\n",
       "    </tr>\n",
       "    <tr>\n",
       "      <th>4</th>\n",
       "      <td>nitishtalekar/ProjectsGit</td>\n",
       "      <td>1</td>\n",
       "      <td>2</td>\n",
       "      <td>3</td>\n",
       "      <td>441</td>\n",
       "    </tr>\n",
       "  </tbody>\n",
       "</table>\n",
       "</div>"
      ],
      "text/plain": [
       "                            project_name  num_stars  num_forks  \\\n",
       "0  OmdenaAI/omdena-philippines-renewable         32          7   \n",
       "1                     autorope/donkeycar       2216       1144   \n",
       "2   ericlavigne/CarND-Capstone-Wolf-Pack         40         23   \n",
       "3    anton164/predicting-citation-counts          2          0   \n",
       "4              nitishtalekar/ProjectsGit          1          2   \n",
       "\n",
       "   num_contributor  num_commit  \n",
       "0               11         129  \n",
       "1              110        2126  \n",
       "2               15         221  \n",
       "3                3         176  \n",
       "4                3         441  "
      ]
     },
     "execution_count": 4,
     "metadata": {},
     "output_type": "execute_result"
    }
   ],
   "source": [
    "df_ = pd.read_csv(r'C:\\Users\\fpatr\\PycharmProjects\\GitHub\\data\\final_data.csv', sep=',')\n",
    "df_.head()"
   ]
  },
  {
   "cell_type": "code",
   "execution_count": 5,
   "id": "e9619e85",
   "metadata": {},
   "outputs": [
    {
     "data": {
      "text/html": [
       "<div>\n",
       "<style scoped>\n",
       "    .dataframe tbody tr th:only-of-type {\n",
       "        vertical-align: middle;\n",
       "    }\n",
       "\n",
       "    .dataframe tbody tr th {\n",
       "        vertical-align: top;\n",
       "    }\n",
       "\n",
       "    .dataframe thead th {\n",
       "        text-align: right;\n",
       "    }\n",
       "</style>\n",
       "<table border=\"1\" class=\"dataframe\">\n",
       "  <thead>\n",
       "    <tr style=\"text-align: right;\">\n",
       "      <th></th>\n",
       "      <th>project_name</th>\n",
       "      <th>num_stars</th>\n",
       "      <th>num_forks</th>\n",
       "      <th>num_contributor</th>\n",
       "      <th>num_commit</th>\n",
       "    </tr>\n",
       "  </thead>\n",
       "  <tbody>\n",
       "    <tr>\n",
       "      <th>0</th>\n",
       "      <td>omdena-philippines-renewable</td>\n",
       "      <td>32</td>\n",
       "      <td>7</td>\n",
       "      <td>11</td>\n",
       "      <td>129</td>\n",
       "    </tr>\n",
       "    <tr>\n",
       "      <th>1</th>\n",
       "      <td>donkeycar</td>\n",
       "      <td>2216</td>\n",
       "      <td>1144</td>\n",
       "      <td>110</td>\n",
       "      <td>2126</td>\n",
       "    </tr>\n",
       "    <tr>\n",
       "      <th>2</th>\n",
       "      <td>CarND-Capstone-Wolf-Pack</td>\n",
       "      <td>40</td>\n",
       "      <td>23</td>\n",
       "      <td>15</td>\n",
       "      <td>221</td>\n",
       "    </tr>\n",
       "    <tr>\n",
       "      <th>3</th>\n",
       "      <td>predicting-citation-counts</td>\n",
       "      <td>2</td>\n",
       "      <td>0</td>\n",
       "      <td>3</td>\n",
       "      <td>176</td>\n",
       "    </tr>\n",
       "    <tr>\n",
       "      <th>4</th>\n",
       "      <td>ProjectsGit</td>\n",
       "      <td>1</td>\n",
       "      <td>2</td>\n",
       "      <td>3</td>\n",
       "      <td>441</td>\n",
       "    </tr>\n",
       "    <tr>\n",
       "      <th>...</th>\n",
       "      <td>...</td>\n",
       "      <td>...</td>\n",
       "      <td>...</td>\n",
       "      <td>...</td>\n",
       "      <td>...</td>\n",
       "    </tr>\n",
       "    <tr>\n",
       "      <th>105</th>\n",
       "      <td>QMCTorch</td>\n",
       "      <td>15</td>\n",
       "      <td>2</td>\n",
       "      <td>3</td>\n",
       "      <td>1070</td>\n",
       "    </tr>\n",
       "    <tr>\n",
       "      <th>106</th>\n",
       "      <td>botorch</td>\n",
       "      <td>2201</td>\n",
       "      <td>248</td>\n",
       "      <td>55</td>\n",
       "      <td>1096</td>\n",
       "    </tr>\n",
       "    <tr>\n",
       "      <th>107</th>\n",
       "      <td>PythonNeuralNetNLP</td>\n",
       "      <td>2</td>\n",
       "      <td>0</td>\n",
       "      <td>2</td>\n",
       "      <td>655</td>\n",
       "    </tr>\n",
       "    <tr>\n",
       "      <th>108</th>\n",
       "      <td>speechbrain</td>\n",
       "      <td>3760</td>\n",
       "      <td>698</td>\n",
       "      <td>81</td>\n",
       "      <td>5969</td>\n",
       "    </tr>\n",
       "    <tr>\n",
       "      <th>109</th>\n",
       "      <td>AI-Training</td>\n",
       "      <td>1</td>\n",
       "      <td>16</td>\n",
       "      <td>14</td>\n",
       "      <td>160</td>\n",
       "    </tr>\n",
       "  </tbody>\n",
       "</table>\n",
       "<p>110 rows × 5 columns</p>\n",
       "</div>"
      ],
      "text/plain": [
       "                     project_name  num_stars  num_forks  num_contributor  \\\n",
       "0    omdena-philippines-renewable         32          7               11   \n",
       "1                       donkeycar       2216       1144              110   \n",
       "2        CarND-Capstone-Wolf-Pack         40         23               15   \n",
       "3      predicting-citation-counts          2          0                3   \n",
       "4                     ProjectsGit          1          2                3   \n",
       "..                            ...        ...        ...              ...   \n",
       "105                      QMCTorch         15          2                3   \n",
       "106                       botorch       2201        248               55   \n",
       "107            PythonNeuralNetNLP          2          0                2   \n",
       "108                   speechbrain       3760        698               81   \n",
       "109                   AI-Training          1         16               14   \n",
       "\n",
       "     num_commit  \n",
       "0           129  \n",
       "1          2126  \n",
       "2           221  \n",
       "3           176  \n",
       "4           441  \n",
       "..          ...  \n",
       "105        1070  \n",
       "106        1096  \n",
       "107         655  \n",
       "108        5969  \n",
       "109         160  \n",
       "\n",
       "[110 rows x 5 columns]"
      ]
     },
     "execution_count": 5,
     "metadata": {},
     "output_type": "execute_result"
    }
   ],
   "source": [
    "df_['project_name'] = df_['project_name'].map(lambda x: x.split('/')[-1])\n",
    "df_"
   ]
  },
  {
   "cell_type": "code",
   "execution_count": 6,
   "id": "70a8b69c",
   "metadata": {},
   "outputs": [
    {
     "data": {
      "text/html": [
       "<div>\n",
       "<style scoped>\n",
       "    .dataframe tbody tr th:only-of-type {\n",
       "        vertical-align: middle;\n",
       "    }\n",
       "\n",
       "    .dataframe tbody tr th {\n",
       "        vertical-align: top;\n",
       "    }\n",
       "\n",
       "    .dataframe thead th {\n",
       "        text-align: right;\n",
       "    }\n",
       "</style>\n",
       "<table border=\"1\" class=\"dataframe\">\n",
       "  <thead>\n",
       "    <tr style=\"text-align: right;\">\n",
       "      <th></th>\n",
       "      <th>project_name</th>\n",
       "      <th>number_file</th>\n",
       "      <th>SLOC</th>\n",
       "      <th>num_stars</th>\n",
       "      <th>num_forks</th>\n",
       "      <th>num_contributor</th>\n",
       "      <th>num_commit</th>\n",
       "    </tr>\n",
       "  </thead>\n",
       "  <tbody>\n",
       "    <tr>\n",
       "      <th>0</th>\n",
       "      <td>adversarial-training</td>\n",
       "      <td>62</td>\n",
       "      <td>11320</td>\n",
       "      <td>9</td>\n",
       "      <td>0</td>\n",
       "      <td>5</td>\n",
       "      <td>213</td>\n",
       "    </tr>\n",
       "    <tr>\n",
       "      <th>1</th>\n",
       "      <td>AI-Training</td>\n",
       "      <td>128</td>\n",
       "      <td>22978</td>\n",
       "      <td>1</td>\n",
       "      <td>16</td>\n",
       "      <td>14</td>\n",
       "      <td>160</td>\n",
       "    </tr>\n",
       "    <tr>\n",
       "      <th>2</th>\n",
       "      <td>ailearning</td>\n",
       "      <td>131</td>\n",
       "      <td>10898</td>\n",
       "      <td>32770</td>\n",
       "      <td>10758</td>\n",
       "      <td>41</td>\n",
       "      <td>207</td>\n",
       "    </tr>\n",
       "    <tr>\n",
       "      <th>3</th>\n",
       "      <td>Air-Pollution</td>\n",
       "      <td>3248</td>\n",
       "      <td>872019</td>\n",
       "      <td>1</td>\n",
       "      <td>2</td>\n",
       "      <td>5</td>\n",
       "      <td>106</td>\n",
       "    </tr>\n",
       "    <tr>\n",
       "      <th>4</th>\n",
       "      <td>attention-lvcsr</td>\n",
       "      <td>613</td>\n",
       "      <td>142601</td>\n",
       "      <td>259</td>\n",
       "      <td>106</td>\n",
       "      <td>4</td>\n",
       "      <td>945</td>\n",
       "    </tr>\n",
       "    <tr>\n",
       "      <th>...</th>\n",
       "      <td>...</td>\n",
       "      <td>...</td>\n",
       "      <td>...</td>\n",
       "      <td>...</td>\n",
       "      <td>...</td>\n",
       "      <td>...</td>\n",
       "      <td>...</td>\n",
       "    </tr>\n",
       "    <tr>\n",
       "      <th>105</th>\n",
       "      <td>VITAE</td>\n",
       "      <td>14</td>\n",
       "      <td>2899</td>\n",
       "      <td>14</td>\n",
       "      <td>6</td>\n",
       "      <td>3</td>\n",
       "      <td>459</td>\n",
       "    </tr>\n",
       "    <tr>\n",
       "      <th>106</th>\n",
       "      <td>Vigilantes</td>\n",
       "      <td>7510</td>\n",
       "      <td>2010902</td>\n",
       "      <td>1</td>\n",
       "      <td>0</td>\n",
       "      <td>9</td>\n",
       "      <td>219</td>\n",
       "    </tr>\n",
       "    <tr>\n",
       "      <th>107</th>\n",
       "      <td>Voice-Privacy-Challenge-2022</td>\n",
       "      <td>99</td>\n",
       "      <td>13726</td>\n",
       "      <td>11</td>\n",
       "      <td>3</td>\n",
       "      <td>7</td>\n",
       "      <td>393</td>\n",
       "    </tr>\n",
       "    <tr>\n",
       "      <th>108</th>\n",
       "      <td>wikum</td>\n",
       "      <td>118</td>\n",
       "      <td>8727</td>\n",
       "      <td>103</td>\n",
       "      <td>32</td>\n",
       "      <td>13</td>\n",
       "      <td>1403</td>\n",
       "    </tr>\n",
       "    <tr>\n",
       "      <th>109</th>\n",
       "      <td>zr-obp</td>\n",
       "      <td>85</td>\n",
       "      <td>32461</td>\n",
       "      <td>362</td>\n",
       "      <td>47</td>\n",
       "      <td>11</td>\n",
       "      <td>960</td>\n",
       "    </tr>\n",
       "  </tbody>\n",
       "</table>\n",
       "<p>110 rows × 7 columns</p>\n",
       "</div>"
      ],
      "text/plain": [
       "                     project_name  number_file     SLOC  num_stars  num_forks  \\\n",
       "0            adversarial-training           62    11320          9          0   \n",
       "1                     AI-Training          128    22978          1         16   \n",
       "2                      ailearning          131    10898      32770      10758   \n",
       "3                   Air-Pollution         3248   872019          1          2   \n",
       "4                 attention-lvcsr          613   142601        259        106   \n",
       "..                            ...          ...      ...        ...        ...   \n",
       "105                         VITAE           14     2899         14          6   \n",
       "106                    Vigilantes         7510  2010902          1          0   \n",
       "107  Voice-Privacy-Challenge-2022           99    13726         11          3   \n",
       "108                         wikum          118     8727        103         32   \n",
       "109                        zr-obp           85    32461        362         47   \n",
       "\n",
       "     num_contributor  num_commit  \n",
       "0                  5         213  \n",
       "1                 14         160  \n",
       "2                 41         207  \n",
       "3                  5         106  \n",
       "4                  4         945  \n",
       "..               ...         ...  \n",
       "105                3         459  \n",
       "106                9         219  \n",
       "107                7         393  \n",
       "108               13        1403  \n",
       "109               11         960  \n",
       "\n",
       "[110 rows x 7 columns]"
      ]
     },
     "execution_count": 6,
     "metadata": {},
     "output_type": "execute_result"
    }
   ],
   "source": [
    "final_data = df.merge(df_)\n",
    "final_data"
   ]
  },
  {
   "cell_type": "code",
   "execution_count": 15,
   "id": "d33f29c3",
   "metadata": {},
   "outputs": [
    {
     "name": "stdout",
     "output_type": "stream",
     "text": [
      "mean: 759.5454545454545\n",
      "max: 9139\n",
      "min: 42\n",
      "median: 323.0\n",
      "25%: 172.25\n",
      "75%: 782.25\n"
     ]
    }
   ],
   "source": [
    "print(\"mean: {}\".format(final_data[\"num_commit\"].mean()))\n",
    "print(\"max: {}\".format(final_data[\"num_commit\"].max()))\n",
    "print(\"min: {}\".format(final_data[\"num_commit\"].min()))\n",
    "print(\"median: {}\".format(final_data[\"num_commit\"].median()))\n",
    "print(\"25%: {}\".format(final_data[\"num_commit\"].quantile(0.25)))\n",
    "print(\"75%: {}\".format(final_data[\"num_commit\"].quantile(0.75)))"
   ]
  },
  {
   "cell_type": "code",
   "execution_count": 24,
   "id": "00683d7c",
   "metadata": {},
   "outputs": [
    {
     "data": {
      "text/plain": [
       "count      110.000000\n",
       "mean      1167.963636\n",
       "std       4090.253804\n",
       "min          1.000000\n",
       "25%          2.000000\n",
       "50%         20.500000\n",
       "75%        284.750000\n",
       "max      32770.000000\n",
       "Name: num_stars, dtype: float64"
      ]
     },
     "execution_count": 24,
     "metadata": {},
     "output_type": "execute_result"
    }
   ],
   "source": [
    "final_data[\"num_stars\"].describe()"
   ]
  },
  {
   "cell_type": "code",
   "execution_count": 10,
   "id": "1ad022ae",
   "metadata": {},
   "outputs": [
    {
     "data": {
      "image/png": "[encoded data removed]",
      "text/plain": [
       "<Figure size 432x576 with 1 Axes>"
      ]
     },
     "metadata": {
      "needs_background": "light"
     },
     "output_type": "display_data"
    }
   ],
   "source": [
    "plt.figure(figsize=(6,8))\n",
    "sns_plot = sns.boxplot(y=final_data[\"num_commit\"])\n",
    "plt.ylabel('#Commit')\n",
    "plt.xlabel('project')\n",
    "plt.ylim(0, 6000)\n",
    "plt.savefig('Commit.png', dpi=400)"
   ]
  },
  {
   "cell_type": "code",
   "execution_count": 16,
   "id": "b29a51fc",
   "metadata": {},
   "outputs": [
    {
     "name": "stdout",
     "output_type": "stream",
     "text": [
      "mean: 272.95454545454544\n",
      "max: 7510\n",
      "min: 5\n",
      "median: 101.0\n",
      "25%: 35.25\n",
      "75%: 210.0\n"
     ]
    }
   ],
   "source": [
    "print(\"mean: {}\".format(final_data[\"number_file\"].mean()))\n",
    "print(\"max: {}\".format(final_data[\"number_file\"].max()))\n",
    "print(\"min: {}\".format(final_data[\"number_file\"].min()))\n",
    "print(\"median: {}\".format(final_data[\"number_file\"].median()))\n",
    "print(\"25%: {}\".format(final_data[\"number_file\"].quantile(0.25)))\n",
    "print(\"75%: {}\".format(final_data[\"number_file\"].quantile(0.75)))"
   ]
  },
  {
   "cell_type": "code",
   "execution_count": 11,
   "id": "02b7eba3",
   "metadata": {},
   "outputs": [
    {
     "data": {
      "image/png": "[encoded data removed]",
      "text/plain": [
       "<Figure size 432x576 with 1 Axes>"
      ]
     },
     "metadata": {
      "needs_background": "light"
     },
     "output_type": "display_data"
    }
   ],
   "source": [
    "plt.figure(figsize=(6,8))\n",
    "sns_plot = sns.boxplot(y=final_data[\"number_file\"], )\n",
    "plt.ylabel('#Python_Files')\n",
    "plt.xlabel('project')\n",
    "plt.ylim(0, 3500)\n",
    "plt.savefig('File.png', dpi=400)"
   ]
  },
  {
   "cell_type": "code",
   "execution_count": 17,
   "id": "577a838f",
   "metadata": {},
   "outputs": [
    {
     "name": "stdout",
     "output_type": "stream",
     "text": [
      "mean: 53579.53636363636\n",
      "max: 2010902\n",
      "min: 244\n",
      "median: 10662.5\n",
      "25%: 3647.75\n",
      "75%: 31228.0\n"
     ]
    }
   ],
   "source": [
    "print(\"mean: {}\".format(final_data[\"SLOC\"].mean()))\n",
    "print(\"max: {}\".format(final_data[\"SLOC\"].max()))\n",
    "print(\"min: {}\".format(final_data[\"SLOC\"].min()))\n",
    "print(\"median: {}\".format(final_data[\"SLOC\"].median()))\n",
    "print(\"25%: {}\".format(final_data[\"SLOC\"].quantile(0.25)))\n",
    "print(\"75%: {}\".format(final_data[\"SLOC\"].quantile(0.75)))"
   ]
  },
  {
   "cell_type": "code",
   "execution_count": 12,
   "id": "213cef53",
   "metadata": {},
   "outputs": [
    {
     "data": {
      "image/png": "[encoded data removed]",
      "text/plain": [
       "<Figure size 504x576 with 1 Axes>"
      ]
     },
     "metadata": {
      "needs_background": "light"
     },
     "output_type": "display_data"
    }
   ],
   "source": [
    "plt.figure(figsize=(7,8))\n",
    "sns_plot = sns.boxplot(y=final_data[\"SLOC\"], )\n",
    "plt.xlabel('project')\n",
    "plt.ylim(0, 150000)\n",
    "plt.savefig('SLOC.png', dpi=400)"
   ]
  },
  {
   "cell_type": "code",
   "execution_count": 18,
   "id": "a5bfc76e",
   "metadata": {},
   "outputs": [
    {
     "name": "stdout",
     "output_type": "stream",
     "text": [
      "mean: 18.927272727272726\n",
      "max: 261\n",
      "min: 2\n",
      "median: 5.0\n",
      "25%: 3.0\n",
      "75%: 13.0\n"
     ]
    }
   ],
   "source": [
    "print(\"mean: {}\".format(final_data[\"num_contributor\"].mean()))\n",
    "print(\"max: {}\".format(final_data[\"num_contributor\"].max()))\n",
    "print(\"min: {}\".format(final_data[\"num_contributor\"].min()))\n",
    "print(\"median: {}\".format(final_data[\"num_contributor\"].median()))\n",
    "print(\"25%: {}\".format(final_data[\"num_contributor\"].quantile(0.25)))\n",
    "print(\"75%: {}\".format(final_data[\"num_contributor\"].quantile(0.75)))"
   ]
  },
  {
   "cell_type": "code",
   "execution_count": 13,
   "id": "6c34955b",
   "metadata": {},
   "outputs": [
    {
     "data": {
      "image/png": "[encoded data removed]",
      "text/plain": [
       "<Figure size 432x576 with 1 Axes>"
      ]
     },
     "metadata": {
      "needs_background": "light"
     },
     "output_type": "display_data"
    }
   ],
   "source": [
    "plt.figure(figsize=(6,8))\n",
    "sns_plot = sns.boxplot(y=final_data[\"num_contributor\"], )\n",
    "plt.ylabel('#Authors')\n",
    "plt.xlabel('project')\n",
    "plt.ylim(0, 150)\n",
    "plt.savefig('Authors.png', dpi=400)"
   ]
  },
  {
   "cell_type": "code",
   "execution_count": 19,
   "id": "21140be2",
   "metadata": {},
   "outputs": [
    {
     "name": "stdout",
     "output_type": "stream",
     "text": [
      "mean: 1167.9636363636364\n",
      "max: 32770\n",
      "min: 1\n",
      "median: 20.5\n",
      "25%: 2.0\n",
      "75%: 284.75\n"
     ]
    }
   ],
   "source": [
    "print(\"mean: {}\".format(final_data[\"num_stars\"].mean()))\n",
    "print(\"max: {}\".format(final_data[\"num_stars\"].max()))\n",
    "print(\"min: {}\".format(final_data[\"num_stars\"].min()))\n",
    "print(\"median: {}\".format(final_data[\"num_stars\"].median()))\n",
    "print(\"25%: {}\".format(final_data[\"num_stars\"].quantile(0.25)))\n",
    "print(\"75%: {}\".format(final_data[\"num_stars\"].quantile(0.75)))"
   ]
  },
  {
   "cell_type": "code",
   "execution_count": 31,
   "id": "00a0be1b",
   "metadata": {},
   "outputs": [
    {
     "data": {
      "text/html": [
       "<div>\n",
       "<style scoped>\n",
       "    .dataframe tbody tr th:only-of-type {\n",
       "        vertical-align: middle;\n",
       "    }\n",
       "\n",
       "    .dataframe tbody tr th {\n",
       "        vertical-align: top;\n",
       "    }\n",
       "\n",
       "    .dataframe thead th {\n",
       "        text-align: right;\n",
       "    }\n",
       "</style>\n",
       "<table border=\"1\" class=\"dataframe\">\n",
       "  <thead>\n",
       "    <tr style=\"text-align: right;\">\n",
       "      <th></th>\n",
       "      <th>project_name</th>\n",
       "      <th>Type_logging</th>\n",
       "      <th>path</th>\n",
       "      <th>logging_statement</th>\n",
       "      <th>occurrence</th>\n",
       "    </tr>\n",
       "  </thead>\n",
       "  <tbody>\n",
       "    <tr>\n",
       "      <th>0</th>\n",
       "      <td>adversarial-training</td>\n",
       "      <td>general</td>\n",
       "      <td>C:\\Users\\fpatr\\PycharmProjects\\GitHub\\data\\out...</td>\n",
       "      <td>logger.log</td>\n",
       "      <td>2</td>\n",
       "    </tr>\n",
       "    <tr>\n",
       "      <th>1</th>\n",
       "      <td>adversarial-training</td>\n",
       "      <td>general</td>\n",
       "      <td>C:\\Users\\fpatr\\PycharmProjects\\GitHub\\data\\out...</td>\n",
       "      <td>warnings.warn</td>\n",
       "      <td>1</td>\n",
       "    </tr>\n",
       "    <tr>\n",
       "      <th>2</th>\n",
       "      <td>adversarial-training</td>\n",
       "      <td>general</td>\n",
       "      <td>C:\\Users\\fpatr\\PycharmProjects\\GitHub\\data\\out...</td>\n",
       "      <td>warnings.warn</td>\n",
       "      <td>2</td>\n",
       "    </tr>\n",
       "    <tr>\n",
       "      <th>3</th>\n",
       "      <td>AI-Training</td>\n",
       "      <td>ML</td>\n",
       "      <td>C:\\Users\\fpatr\\PycharmProjects\\GitHub\\data\\out...</td>\n",
       "      <td>self.hparams.train_logger.log_stats</td>\n",
       "      <td>2</td>\n",
       "    </tr>\n",
       "    <tr>\n",
       "      <th>4</th>\n",
       "      <td>AI-Training</td>\n",
       "      <td>general</td>\n",
       "      <td>C:\\Users\\fpatr\\PycharmProjects\\GitHub\\data\\out...</td>\n",
       "      <td>logger.warn</td>\n",
       "      <td>5</td>\n",
       "    </tr>\n",
       "    <tr>\n",
       "      <th>...</th>\n",
       "      <td>...</td>\n",
       "      <td>...</td>\n",
       "      <td>...</td>\n",
       "      <td>...</td>\n",
       "      <td>...</td>\n",
       "    </tr>\n",
       "    <tr>\n",
       "      <th>6353</th>\n",
       "      <td>zr-obp</td>\n",
       "      <td>general</td>\n",
       "      <td>C:\\Users\\fpatr\\PycharmProjects\\GitHub\\data\\out...</td>\n",
       "      <td>logger.info</td>\n",
       "      <td>1</td>\n",
       "    </tr>\n",
       "    <tr>\n",
       "      <th>6354</th>\n",
       "      <td>zr-obp</td>\n",
       "      <td>general</td>\n",
       "      <td>C:\\Users\\fpatr\\PycharmProjects\\GitHub\\data\\out...</td>\n",
       "      <td>logger.warning</td>\n",
       "      <td>1</td>\n",
       "    </tr>\n",
       "    <tr>\n",
       "      <th>6355</th>\n",
       "      <td>zr-obp</td>\n",
       "      <td>general</td>\n",
       "      <td>C:\\Users\\fpatr\\PycharmProjects\\GitHub\\data\\out...</td>\n",
       "      <td>logger.warning</td>\n",
       "      <td>1</td>\n",
       "    </tr>\n",
       "    <tr>\n",
       "      <th>6356</th>\n",
       "      <td>zr-obp</td>\n",
       "      <td>general</td>\n",
       "      <td>C:\\Users\\fpatr\\PycharmProjects\\GitHub\\data\\out...</td>\n",
       "      <td>logger.warning</td>\n",
       "      <td>1</td>\n",
       "    </tr>\n",
       "    <tr>\n",
       "      <th>6357</th>\n",
       "      <td>zr-obp</td>\n",
       "      <td>general</td>\n",
       "      <td>C:\\Users\\fpatr\\PycharmProjects\\GitHub\\data\\out...</td>\n",
       "      <td>logger.warning</td>\n",
       "      <td>1</td>\n",
       "    </tr>\n",
       "  </tbody>\n",
       "</table>\n",
       "<p>6358 rows × 5 columns</p>\n",
       "</div>"
      ],
      "text/plain": [
       "              project_name Type_logging  \\\n",
       "0     adversarial-training      general   \n",
       "1     adversarial-training      general   \n",
       "2     adversarial-training      general   \n",
       "3              AI-Training           ML   \n",
       "4              AI-Training      general   \n",
       "...                    ...          ...   \n",
       "6353                zr-obp      general   \n",
       "6354                zr-obp      general   \n",
       "6355                zr-obp      general   \n",
       "6356                zr-obp      general   \n",
       "6357                zr-obp      general   \n",
       "\n",
       "                                                   path  \\\n",
       "0     C:\\Users\\fpatr\\PycharmProjects\\GitHub\\data\\out...   \n",
       "1     C:\\Users\\fpatr\\PycharmProjects\\GitHub\\data\\out...   \n",
       "2     C:\\Users\\fpatr\\PycharmProjects\\GitHub\\data\\out...   \n",
       "3     C:\\Users\\fpatr\\PycharmProjects\\GitHub\\data\\out...   \n",
       "4     C:\\Users\\fpatr\\PycharmProjects\\GitHub\\data\\out...   \n",
       "...                                                 ...   \n",
       "6353  C:\\Users\\fpatr\\PycharmProjects\\GitHub\\data\\out...   \n",
       "6354  C:\\Users\\fpatr\\PycharmProjects\\GitHub\\data\\out...   \n",
       "6355  C:\\Users\\fpatr\\PycharmProjects\\GitHub\\data\\out...   \n",
       "6356  C:\\Users\\fpatr\\PycharmProjects\\GitHub\\data\\out...   \n",
       "6357  C:\\Users\\fpatr\\PycharmProjects\\GitHub\\data\\out...   \n",
       "\n",
       "                        logging_statement  occurrence  \n",
       "0                              logger.log           2  \n",
       "1                           warnings.warn           1  \n",
       "2                           warnings.warn           2  \n",
       "3     self.hparams.train_logger.log_stats           2  \n",
       "4                             logger.warn           5  \n",
       "...                                   ...         ...  \n",
       "6353                          logger.info           1  \n",
       "6354                       logger.warning           1  \n",
       "6355                       logger.warning           1  \n",
       "6356                       logger.warning           1  \n",
       "6357                       logger.warning           1  \n",
       "\n",
       "[6358 rows x 5 columns]"
      ]
     },
     "execution_count": 31,
     "metadata": {},
     "output_type": "execute_result"
    }
   ],
   "source": [
    "logging = pd.read_csv(r'C:\\Users\\fpatr\\PycharmProjects\\GitHub\\data\\outputs\\AI_logging_data.csv', sep=';')\n",
    "logging"
   ]
  },
  {
   "cell_type": "code",
   "execution_count": 32,
   "id": "9d3eb3cf",
   "metadata": {},
   "outputs": [
    {
     "data": {
      "text/html": [
       "<div>\n",
       "<style scoped>\n",
       "    .dataframe tbody tr th:only-of-type {\n",
       "        vertical-align: middle;\n",
       "    }\n",
       "\n",
       "    .dataframe tbody tr th {\n",
       "        vertical-align: top;\n",
       "    }\n",
       "\n",
       "    .dataframe thead th {\n",
       "        text-align: right;\n",
       "    }\n",
       "</style>\n",
       "<table border=\"1\" class=\"dataframe\">\n",
       "  <thead>\n",
       "    <tr style=\"text-align: right;\">\n",
       "      <th></th>\n",
       "      <th>project_name</th>\n",
       "      <th>LOC</th>\n",
       "      <th>occurrence</th>\n",
       "      <th>log_density</th>\n",
       "    </tr>\n",
       "  </thead>\n",
       "  <tbody>\n",
       "    <tr>\n",
       "      <th>0</th>\n",
       "      <td>adversarial-training</td>\n",
       "      <td>11320</td>\n",
       "      <td>5.0</td>\n",
       "      <td>2264.000000</td>\n",
       "    </tr>\n",
       "    <tr>\n",
       "      <th>1</th>\n",
       "      <td>AI-Training</td>\n",
       "      <td>22978</td>\n",
       "      <td>190.0</td>\n",
       "      <td>120.936842</td>\n",
       "    </tr>\n",
       "    <tr>\n",
       "      <th>2</th>\n",
       "      <td>ailearning</td>\n",
       "      <td>10898</td>\n",
       "      <td>4.0</td>\n",
       "      <td>2724.500000</td>\n",
       "    </tr>\n",
       "    <tr>\n",
       "      <th>3</th>\n",
       "      <td>Air-Pollution</td>\n",
       "      <td>872019</td>\n",
       "      <td>1839.0</td>\n",
       "      <td>474.181077</td>\n",
       "    </tr>\n",
       "    <tr>\n",
       "      <th>4</th>\n",
       "      <td>attention-lvcsr</td>\n",
       "      <td>142601</td>\n",
       "      <td>317.0</td>\n",
       "      <td>449.845426</td>\n",
       "    </tr>\n",
       "    <tr>\n",
       "      <th>...</th>\n",
       "      <td>...</td>\n",
       "      <td>...</td>\n",
       "      <td>...</td>\n",
       "      <td>...</td>\n",
       "    </tr>\n",
       "    <tr>\n",
       "      <th>105</th>\n",
       "      <td>Vigilantes</td>\n",
       "      <td>2010902</td>\n",
       "      <td>4679.0</td>\n",
       "      <td>429.771746</td>\n",
       "    </tr>\n",
       "    <tr>\n",
       "      <th>106</th>\n",
       "      <td>VITAE</td>\n",
       "      <td>2899</td>\n",
       "      <td>NaN</td>\n",
       "      <td>NaN</td>\n",
       "    </tr>\n",
       "    <tr>\n",
       "      <th>107</th>\n",
       "      <td>Voice-Privacy-Challenge-2022</td>\n",
       "      <td>13726</td>\n",
       "      <td>1.0</td>\n",
       "      <td>13726.000000</td>\n",
       "    </tr>\n",
       "    <tr>\n",
       "      <th>108</th>\n",
       "      <td>wikum</td>\n",
       "      <td>8727</td>\n",
       "      <td>4.0</td>\n",
       "      <td>2181.750000</td>\n",
       "    </tr>\n",
       "    <tr>\n",
       "      <th>109</th>\n",
       "      <td>zr-obp</td>\n",
       "      <td>32461</td>\n",
       "      <td>13.0</td>\n",
       "      <td>2497.000000</td>\n",
       "    </tr>\n",
       "  </tbody>\n",
       "</table>\n",
       "<p>110 rows × 4 columns</p>\n",
       "</div>"
      ],
      "text/plain": [
       "                     project_name      LOC  occurrence   log_density\n",
       "0            adversarial-training    11320         5.0   2264.000000\n",
       "1                     AI-Training    22978       190.0    120.936842\n",
       "2                      ailearning    10898         4.0   2724.500000\n",
       "3                   Air-Pollution   872019      1839.0    474.181077\n",
       "4                 attention-lvcsr   142601       317.0    449.845426\n",
       "..                            ...      ...         ...           ...\n",
       "105                    Vigilantes  2010902      4679.0    429.771746\n",
       "106                         VITAE     2899         NaN           NaN\n",
       "107  Voice-Privacy-Challenge-2022    13726         1.0  13726.000000\n",
       "108                         wikum     8727         4.0   2181.750000\n",
       "109                        zr-obp    32461        13.0   2497.000000\n",
       "\n",
       "[110 rows x 4 columns]"
      ]
     },
     "execution_count": 32,
     "metadata": {},
     "output_type": "execute_result"
    }
   ],
   "source": [
    "code = pd.read_csv(r'C:\\Users\\fpatr\\PycharmProjects\\GitHub\\RQ1\\log_density.csv', sep=',')\n",
    "code"
   ]
  },
  {
   "cell_type": "code",
   "execution_count": 33,
   "id": "60e36ce2",
   "metadata": {},
   "outputs": [
    {
     "name": "stdout",
     "output_type": "stream",
     "text": [
      "Log density egal : 290.8195499851969\n"
     ]
    }
   ],
   "source": [
    "log_density = code['LOC'].sum()/logging['occurrence'].sum()\n",
    "print(\"Log density egal : {}\".format(log_density))"
   ]
  },
  {
   "cell_type": "code",
   "execution_count": 34,
   "id": "1059f4af",
   "metadata": {},
   "outputs": [
    {
     "data": {
      "text/plain": [
       "Type_logging\n",
       "ML          1682\n",
       "general    18584\n",
       "Name: occurrence, dtype: int64"
      ]
     },
     "execution_count": 34,
     "metadata": {},
     "output_type": "execute_result"
    }
   ],
   "source": [
    "logging.groupby('Type_logging').occurrence.sum()"
   ]
  },
  {
   "cell_type": "code",
   "execution_count": 35,
   "id": "08aaf202",
   "metadata": {},
   "outputs": [],
   "source": [
    "logging.loc[(logging.Type_logging.str.contains('general')),'Type_logging']='GENERAL'"
   ]
  },
  {
   "cell_type": "code",
   "execution_count": 36,
   "id": "7400a55f",
   "metadata": {},
   "outputs": [
    {
     "data": {
      "image/png": "[encoded data removed]",
      "text/plain": [
       "<Figure size 576x432 with 1 Axes>"
      ]
     },
     "metadata": {
      "needs_background": "light"
     },
     "output_type": "display_data"
    }
   ],
   "source": [
    "plt.figure(figsize=(8,6))\n",
    "sns_plot = sns.barplot(x='Type_logging', y='occurrence',\n",
    "            data=logging,\n",
    "            estimator=np.sum,\n",
    "            ci=None\n",
    "           );\n",
    "plt.xlabel('Logging type')\n",
    "plt.ylabel('number of logging')\n",
    "plt.title('Log type distribution')\n",
    "for c in sns_plot.containers:\n",
    "    \n",
    "    # custom label calculates percent and add an empty string so 0 value bars don't have a number\n",
    "    labels = [f'{h/logging.occurrence.sum()*100:0.1f}%' if (h := v.get_height()) > 0 else '' for v in c]\n",
    "    \n",
    "    sns_plot.bar_label(c, labels=labels, label_type='edge')\n",
    "plt.savefig('logging_distibution_update.pdf', dpi=400)"
   ]
  },
  {
   "cell_type": "code",
   "execution_count": 37,
   "id": "6fe062a6",
   "metadata": {},
   "outputs": [
    {
     "data": {
      "text/html": [
       "<div>\n",
       "<style scoped>\n",
       "    .dataframe tbody tr th:only-of-type {\n",
       "        vertical-align: middle;\n",
       "    }\n",
       "\n",
       "    .dataframe tbody tr th {\n",
       "        vertical-align: top;\n",
       "    }\n",
       "\n",
       "    .dataframe thead th {\n",
       "        text-align: right;\n",
       "    }\n",
       "</style>\n",
       "<table border=\"1\" class=\"dataframe\">\n",
       "  <thead>\n",
       "    <tr style=\"text-align: right;\">\n",
       "      <th></th>\n",
       "      <th>project_name</th>\n",
       "      <th>Type_logging</th>\n",
       "      <th>path</th>\n",
       "      <th>logging_statement</th>\n",
       "      <th>occurrence</th>\n",
       "    </tr>\n",
       "  </thead>\n",
       "  <tbody>\n",
       "    <tr>\n",
       "      <th>1</th>\n",
       "      <td>adversarial-training</td>\n",
       "      <td>GENERAL</td>\n",
       "      <td>C:\\Users\\fpatr\\PycharmProjects\\GitHub\\data\\out...</td>\n",
       "      <td>warnings.warn</td>\n",
       "      <td>1</td>\n",
       "    </tr>\n",
       "    <tr>\n",
       "      <th>2</th>\n",
       "      <td>adversarial-training</td>\n",
       "      <td>GENERAL</td>\n",
       "      <td>C:\\Users\\fpatr\\PycharmProjects\\GitHub\\data\\out...</td>\n",
       "      <td>warnings.warn</td>\n",
       "      <td>2</td>\n",
       "    </tr>\n",
       "    <tr>\n",
       "      <th>4</th>\n",
       "      <td>AI-Training</td>\n",
       "      <td>GENERAL</td>\n",
       "      <td>C:\\Users\\fpatr\\PycharmProjects\\GitHub\\data\\out...</td>\n",
       "      <td>logger.warn</td>\n",
       "      <td>5</td>\n",
       "    </tr>\n",
       "    <tr>\n",
       "      <th>5</th>\n",
       "      <td>AI-Training</td>\n",
       "      <td>GENERAL</td>\n",
       "      <td>C:\\Users\\fpatr\\PycharmProjects\\GitHub\\data\\out...</td>\n",
       "      <td>logger.warning</td>\n",
       "      <td>2</td>\n",
       "    </tr>\n",
       "    <tr>\n",
       "      <th>7</th>\n",
       "      <td>AI-Training</td>\n",
       "      <td>GENERAL</td>\n",
       "      <td>C:\\Users\\fpatr\\PycharmProjects\\GitHub\\data\\out...</td>\n",
       "      <td>logger.error</td>\n",
       "      <td>1</td>\n",
       "    </tr>\n",
       "    <tr>\n",
       "      <th>...</th>\n",
       "      <td>...</td>\n",
       "      <td>...</td>\n",
       "      <td>...</td>\n",
       "      <td>...</td>\n",
       "      <td>...</td>\n",
       "    </tr>\n",
       "    <tr>\n",
       "      <th>6353</th>\n",
       "      <td>zr-obp</td>\n",
       "      <td>GENERAL</td>\n",
       "      <td>C:\\Users\\fpatr\\PycharmProjects\\GitHub\\data\\out...</td>\n",
       "      <td>logger.info</td>\n",
       "      <td>1</td>\n",
       "    </tr>\n",
       "    <tr>\n",
       "      <th>6354</th>\n",
       "      <td>zr-obp</td>\n",
       "      <td>GENERAL</td>\n",
       "      <td>C:\\Users\\fpatr\\PycharmProjects\\GitHub\\data\\out...</td>\n",
       "      <td>logger.warning</td>\n",
       "      <td>1</td>\n",
       "    </tr>\n",
       "    <tr>\n",
       "      <th>6355</th>\n",
       "      <td>zr-obp</td>\n",
       "      <td>GENERAL</td>\n",
       "      <td>C:\\Users\\fpatr\\PycharmProjects\\GitHub\\data\\out...</td>\n",
       "      <td>logger.warning</td>\n",
       "      <td>1</td>\n",
       "    </tr>\n",
       "    <tr>\n",
       "      <th>6356</th>\n",
       "      <td>zr-obp</td>\n",
       "      <td>GENERAL</td>\n",
       "      <td>C:\\Users\\fpatr\\PycharmProjects\\GitHub\\data\\out...</td>\n",
       "      <td>logger.warning</td>\n",
       "      <td>1</td>\n",
       "    </tr>\n",
       "    <tr>\n",
       "      <th>6357</th>\n",
       "      <td>zr-obp</td>\n",
       "      <td>GENERAL</td>\n",
       "      <td>C:\\Users\\fpatr\\PycharmProjects\\GitHub\\data\\out...</td>\n",
       "      <td>logger.warning</td>\n",
       "      <td>1</td>\n",
       "    </tr>\n",
       "  </tbody>\n",
       "</table>\n",
       "<p>5678 rows × 5 columns</p>\n",
       "</div>"
      ],
      "text/plain": [
       "              project_name Type_logging  \\\n",
       "1     adversarial-training      GENERAL   \n",
       "2     adversarial-training      GENERAL   \n",
       "4              AI-Training      GENERAL   \n",
       "5              AI-Training      GENERAL   \n",
       "7              AI-Training      GENERAL   \n",
       "...                    ...          ...   \n",
       "6353                zr-obp      GENERAL   \n",
       "6354                zr-obp      GENERAL   \n",
       "6355                zr-obp      GENERAL   \n",
       "6356                zr-obp      GENERAL   \n",
       "6357                zr-obp      GENERAL   \n",
       "\n",
       "                                                   path logging_statement  \\\n",
       "1     C:\\Users\\fpatr\\PycharmProjects\\GitHub\\data\\out...     warnings.warn   \n",
       "2     C:\\Users\\fpatr\\PycharmProjects\\GitHub\\data\\out...     warnings.warn   \n",
       "4     C:\\Users\\fpatr\\PycharmProjects\\GitHub\\data\\out...       logger.warn   \n",
       "5     C:\\Users\\fpatr\\PycharmProjects\\GitHub\\data\\out...    logger.warning   \n",
       "7     C:\\Users\\fpatr\\PycharmProjects\\GitHub\\data\\out...      logger.error   \n",
       "...                                                 ...               ...   \n",
       "6353  C:\\Users\\fpatr\\PycharmProjects\\GitHub\\data\\out...       logger.info   \n",
       "6354  C:\\Users\\fpatr\\PycharmProjects\\GitHub\\data\\out...    logger.warning   \n",
       "6355  C:\\Users\\fpatr\\PycharmProjects\\GitHub\\data\\out...    logger.warning   \n",
       "6356  C:\\Users\\fpatr\\PycharmProjects\\GitHub\\data\\out...    logger.warning   \n",
       "6357  C:\\Users\\fpatr\\PycharmProjects\\GitHub\\data\\out...    logger.warning   \n",
       "\n",
       "      occurrence  \n",
       "1              1  \n",
       "2              2  \n",
       "4              5  \n",
       "5              2  \n",
       "7              1  \n",
       "...          ...  \n",
       "6353           1  \n",
       "6354           1  \n",
       "6355           1  \n",
       "6356           1  \n",
       "6357           1  \n",
       "\n",
       "[5678 rows x 5 columns]"
      ]
     },
     "execution_count": 37,
     "metadata": {},
     "output_type": "execute_result"
    }
   ],
   "source": [
    "contain_values = logging[logging['logging_statement'].str.contains('debug|info|warn|error|critical|except|fatal')]\n",
    "contain_values"
   ]
  },
  {
   "cell_type": "code",
   "execution_count": 38,
   "id": "fb6e7c92",
   "metadata": {
    "scrolled": true
   },
   "outputs": [
    {
     "data": {
      "text/html": [
       "<div>\n",
       "<style scoped>\n",
       "    .dataframe tbody tr th:only-of-type {\n",
       "        vertical-align: middle;\n",
       "    }\n",
       "\n",
       "    .dataframe tbody tr th {\n",
       "        vertical-align: top;\n",
       "    }\n",
       "\n",
       "    .dataframe thead th {\n",
       "        text-align: right;\n",
       "    }\n",
       "</style>\n",
       "<table border=\"1\" class=\"dataframe\">\n",
       "  <thead>\n",
       "    <tr style=\"text-align: right;\">\n",
       "      <th></th>\n",
       "      <th>project_name</th>\n",
       "      <th>Type_logging</th>\n",
       "      <th>path</th>\n",
       "      <th>logging_statement</th>\n",
       "      <th>occurrence</th>\n",
       "    </tr>\n",
       "  </thead>\n",
       "  <tbody>\n",
       "    <tr>\n",
       "      <th>1</th>\n",
       "      <td>adversarial-training</td>\n",
       "      <td>GENERAL</td>\n",
       "      <td>C:\\Users\\fpatr\\PycharmProjects\\GitHub\\data\\out...</td>\n",
       "      <td>WARNING</td>\n",
       "      <td>1</td>\n",
       "    </tr>\n",
       "    <tr>\n",
       "      <th>2</th>\n",
       "      <td>adversarial-training</td>\n",
       "      <td>GENERAL</td>\n",
       "      <td>C:\\Users\\fpatr\\PycharmProjects\\GitHub\\data\\out...</td>\n",
       "      <td>WARNING</td>\n",
       "      <td>2</td>\n",
       "    </tr>\n",
       "    <tr>\n",
       "      <th>4</th>\n",
       "      <td>AI-Training</td>\n",
       "      <td>GENERAL</td>\n",
       "      <td>C:\\Users\\fpatr\\PycharmProjects\\GitHub\\data\\out...</td>\n",
       "      <td>WARNING</td>\n",
       "      <td>5</td>\n",
       "    </tr>\n",
       "    <tr>\n",
       "      <th>5</th>\n",
       "      <td>AI-Training</td>\n",
       "      <td>GENERAL</td>\n",
       "      <td>C:\\Users\\fpatr\\PycharmProjects\\GitHub\\data\\out...</td>\n",
       "      <td>WARNING</td>\n",
       "      <td>2</td>\n",
       "    </tr>\n",
       "    <tr>\n",
       "      <th>7</th>\n",
       "      <td>AI-Training</td>\n",
       "      <td>GENERAL</td>\n",
       "      <td>C:\\Users\\fpatr\\PycharmProjects\\GitHub\\data\\out...</td>\n",
       "      <td>ERROR</td>\n",
       "      <td>1</td>\n",
       "    </tr>\n",
       "    <tr>\n",
       "      <th>...</th>\n",
       "      <td>...</td>\n",
       "      <td>...</td>\n",
       "      <td>...</td>\n",
       "      <td>...</td>\n",
       "      <td>...</td>\n",
       "    </tr>\n",
       "    <tr>\n",
       "      <th>6353</th>\n",
       "      <td>zr-obp</td>\n",
       "      <td>GENERAL</td>\n",
       "      <td>C:\\Users\\fpatr\\PycharmProjects\\GitHub\\data\\out...</td>\n",
       "      <td>INFO</td>\n",
       "      <td>1</td>\n",
       "    </tr>\n",
       "    <tr>\n",
       "      <th>6354</th>\n",
       "      <td>zr-obp</td>\n",
       "      <td>GENERAL</td>\n",
       "      <td>C:\\Users\\fpatr\\PycharmProjects\\GitHub\\data\\out...</td>\n",
       "      <td>WARNING</td>\n",
       "      <td>1</td>\n",
       "    </tr>\n",
       "    <tr>\n",
       "      <th>6355</th>\n",
       "      <td>zr-obp</td>\n",
       "      <td>GENERAL</td>\n",
       "      <td>C:\\Users\\fpatr\\PycharmProjects\\GitHub\\data\\out...</td>\n",
       "      <td>WARNING</td>\n",
       "      <td>1</td>\n",
       "    </tr>\n",
       "    <tr>\n",
       "      <th>6356</th>\n",
       "      <td>zr-obp</td>\n",
       "      <td>GENERAL</td>\n",
       "      <td>C:\\Users\\fpatr\\PycharmProjects\\GitHub\\data\\out...</td>\n",
       "      <td>WARNING</td>\n",
       "      <td>1</td>\n",
       "    </tr>\n",
       "    <tr>\n",
       "      <th>6357</th>\n",
       "      <td>zr-obp</td>\n",
       "      <td>GENERAL</td>\n",
       "      <td>C:\\Users\\fpatr\\PycharmProjects\\GitHub\\data\\out...</td>\n",
       "      <td>WARNING</td>\n",
       "      <td>1</td>\n",
       "    </tr>\n",
       "  </tbody>\n",
       "</table>\n",
       "<p>5678 rows × 5 columns</p>\n",
       "</div>"
      ],
      "text/plain": [
       "              project_name Type_logging  \\\n",
       "1     adversarial-training      GENERAL   \n",
       "2     adversarial-training      GENERAL   \n",
       "4              AI-Training      GENERAL   \n",
       "5              AI-Training      GENERAL   \n",
       "7              AI-Training      GENERAL   \n",
       "...                    ...          ...   \n",
       "6353                zr-obp      GENERAL   \n",
       "6354                zr-obp      GENERAL   \n",
       "6355                zr-obp      GENERAL   \n",
       "6356                zr-obp      GENERAL   \n",
       "6357                zr-obp      GENERAL   \n",
       "\n",
       "                                                   path logging_statement  \\\n",
       "1     C:\\Users\\fpatr\\PycharmProjects\\GitHub\\data\\out...           WARNING   \n",
       "2     C:\\Users\\fpatr\\PycharmProjects\\GitHub\\data\\out...           WARNING   \n",
       "4     C:\\Users\\fpatr\\PycharmProjects\\GitHub\\data\\out...           WARNING   \n",
       "5     C:\\Users\\fpatr\\PycharmProjects\\GitHub\\data\\out...           WARNING   \n",
       "7     C:\\Users\\fpatr\\PycharmProjects\\GitHub\\data\\out...             ERROR   \n",
       "...                                                 ...               ...   \n",
       "6353  C:\\Users\\fpatr\\PycharmProjects\\GitHub\\data\\out...              INFO   \n",
       "6354  C:\\Users\\fpatr\\PycharmProjects\\GitHub\\data\\out...           WARNING   \n",
       "6355  C:\\Users\\fpatr\\PycharmProjects\\GitHub\\data\\out...           WARNING   \n",
       "6356  C:\\Users\\fpatr\\PycharmProjects\\GitHub\\data\\out...           WARNING   \n",
       "6357  C:\\Users\\fpatr\\PycharmProjects\\GitHub\\data\\out...           WARNING   \n",
       "\n",
       "      occurrence  \n",
       "1              1  \n",
       "2              2  \n",
       "4              5  \n",
       "5              2  \n",
       "7              1  \n",
       "...          ...  \n",
       "6353           1  \n",
       "6354           1  \n",
       "6355           1  \n",
       "6356           1  \n",
       "6357           1  \n",
       "\n",
       "[5678 rows x 5 columns]"
      ]
     },
     "execution_count": 38,
     "metadata": {},
     "output_type": "execute_result"
    }
   ],
   "source": [
    "contain_values.loc[(contain_values.logging_statement.str.contains('debug')),'logging_statement']='DEBUG'\n",
    "contain_values.loc[(contain_values.logging_statement.str.contains('info')),'logging_statement']='INFO'\n",
    "contain_values.loc[(contain_values.logging_statement.str.contains('warn')),'logging_statement']='WARNING'\n",
    "contain_values.loc[(contain_values.logging_statement.str.contains('error')),'logging_statement']='ERROR'\n",
    "contain_values.loc[(contain_values.logging_statement.str.contains('critical')),'logging_statement']='CRITICAL'\n",
    "contain_values.loc[(contain_values.logging_statement.str.contains('except')),'logging_statement']='EXCEPTION'\n",
    "contain_values.loc[(contain_values.logging_statement.str.contains('fatal')),'logging_statement']='FATAL'\n",
    "contain_values"
   ]
  },
  {
   "cell_type": "code",
   "execution_count": 39,
   "id": "914ed645",
   "metadata": {},
   "outputs": [
    {
     "data": {
      "image/png": "[encoded data removed]",
      "text/plain": [
       "<Figure size 576x432 with 1 Axes>"
      ]
     },
     "metadata": {
      "needs_background": "light"
     },
     "output_type": "display_data"
    }
   ],
   "source": [
    "plt.figure(figsize=(8,6))\n",
    "sns_plot = sns.barplot(x='logging_statement', y='occurrence',\n",
    "            data=contain_values,\n",
    "            estimator=np.sum,\n",
    "            order=[\"INFO\",\"WARNING\", \"DEBUG\", \"ERROR\", \"EXCEPTION\",\"CRITICAL\",\"FATAL\"],\n",
    "            ci=None\n",
    "           );\n",
    "plt.xlabel('Log Level')\n",
    "plt.ylabel('#logging')\n",
    "plt.title('Log level distribution')\n",
    "for c in sns_plot.containers:\n",
    "    \n",
    "    # custom label calculates percent and add an empty string so 0 value bars don't have a number\n",
    "    labels = [f'{h/logging.occurrence.sum()*100:0.1f}%' if (h := v.get_height()) > 0 else '' for v in c]\n",
    "    \n",
    "    sns_plot.bar_label(c, labels=labels, label_type='edge')\n",
    "plt.savefig('logging_level_distibution.pdf', dpi=400)"
   ]
  },
  {
   "cell_type": "code",
   "execution_count": 9,
   "id": "16f10b10",
   "metadata": {},
   "outputs": [
    {
     "data": {
      "text/html": [
       "<div>\n",
       "<style scoped>\n",
       "    .dataframe tbody tr th:only-of-type {\n",
       "        vertical-align: middle;\n",
       "    }\n",
       "\n",
       "    .dataframe tbody tr th {\n",
       "        vertical-align: top;\n",
       "    }\n",
       "\n",
       "    .dataframe thead th {\n",
       "        text-align: right;\n",
       "    }\n",
       "</style>\n",
       "<table border=\"1\" class=\"dataframe\">\n",
       "  <thead>\n",
       "    <tr style=\"text-align: right;\">\n",
       "      <th></th>\n",
       "      <th>Paper</th>\n",
       "      <th>Log_density</th>\n",
       "    </tr>\n",
       "  </thead>\n",
       "  <tbody>\n",
       "    <tr>\n",
       "      <th>0</th>\n",
       "      <td>This paper (ML)</td>\n",
       "      <td>290</td>\n",
       "    </tr>\n",
       "    <tr>\n",
       "      <th>1</th>\n",
       "      <td>Yuan et al. (C/C++)</td>\n",
       "      <td>30</td>\n",
       "    </tr>\n",
       "    <tr>\n",
       "      <th>2</th>\n",
       "      <td>Chen et al (JAVA)</td>\n",
       "      <td>51</td>\n",
       "    </tr>\n",
       "    <tr>\n",
       "      <th>3</th>\n",
       "      <td>Zhu et al. (C#)</td>\n",
       "      <td>58</td>\n",
       "    </tr>\n",
       "    <tr>\n",
       "      <th>4</th>\n",
       "      <td>Zeng et al. (Android)</td>\n",
       "      <td>479</td>\n",
       "    </tr>\n",
       "  </tbody>\n",
       "</table>\n",
       "</div>"
      ],
      "text/plain": [
       "                   Paper  Log_density\n",
       "0        This paper (ML)          290\n",
       "1    Yuan et al. (C/C++)           30\n",
       "2      Chen et al (JAVA)           51\n",
       "3        Zhu et al. (C#)           58\n",
       "4  Zeng et al. (Android)          479"
      ]
     },
     "execution_count": 9,
     "metadata": {},
     "output_type": "execute_result"
    }
   ],
   "source": [
    "data_paper = pd.read_csv('log_density_paper.csv', sep=';')\n",
    "data_paper"
   ]
  },
  {
   "cell_type": "code",
   "execution_count": 10,
   "id": "be7ccdb1",
   "metadata": {},
   "outputs": [
    {
     "data": {
      "image/png": "[encoded data removed]",
      "text/plain": [
       "<Figure size 720x432 with 1 Axes>"
      ]
     },
     "metadata": {
      "needs_background": "light"
     },
     "output_type": "display_data"
    }
   ],
   "source": [
    "plt.figure(figsize=(10,6))\n",
    "sns_plot = sns.barplot(x='Paper', y='Log_density',\n",
    "            data=data_paper,\n",
    "            order=[\"Zeng et al. (Android)\",\"This paper (ML)\", \"Zhu et al. (C#)\", \"Chen et al (JAVA)\", \"Yuan et al. (C/C++)\"],\n",
    "            ci=None\n",
    "           );\n",
    "plt.xlabel('Paper')\n",
    "plt.ylabel('Log density')\n",
    "plt.title('Log density comparaison')\n",
    "sns_plot.bar_label(sns_plot.containers[0])\n",
    "plt.savefig('Log_density_comparaison.pdf', dpi=400)"
   ]
  },
  {
   "cell_type": "code",
   "execution_count": null,
   "id": "1e877cbe",
   "metadata": {},
   "outputs": [],
   "source": []
  }
 ],
 "metadata": {
  "kernelspec": {
   "display_name": "Python 3 (ipykernel)",
   "language": "python",
   "name": "python3"
  },
  "language_info": {
   "codemirror_mode": {
    "name": "ipython",
    "version": 3
   },
   "file_extension": ".py",
   "mimetype": "text/x-python",
   "name": "python",
   "nbconvert_exporter": "python",
   "pygments_lexer": "ipython3",
   "version": "3.9.12"
  }
 },
 "nbformat": 4,
 "nbformat_minor": 5
}
