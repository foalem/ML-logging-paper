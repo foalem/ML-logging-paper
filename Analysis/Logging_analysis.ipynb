{
 "cells": [
  {
   "cell_type": "code",
   "execution_count": 1,
   "id": "75ca15ed",
   "metadata": {},
   "outputs": [],
   "source": [
    "import pandas as pd"
   ]
  },
  {
   "cell_type": "code",
   "execution_count": 16,
   "id": "a537bf89",
   "metadata": {},
   "outputs": [],
   "source": [
    "def log_density():\n",
    "    df_new = pd.read_csv(r'C:\\Users\\fpatr\\PycharmProjects\\GitHub\\data\\outputs\\logging_.csv')\n",
    "    df_old = pd.read_csv('ML-logging.csv', sep=';').drop_duplicates()\n",
    "    df = df_old[df_old.columns[-2:]].drop_duplicates()\n",
    "    #print(df)\n",
    "    # extracted_col = np.nan\n",
    "    # df_new = df_new.join(extracted_col)\n",
    "    # df_new['logging_type'] = np.nan\n",
    "    #print(df_new)\n",
    "    # s = df_new.set_index('logging_')['logging_type']\n",
    "    # print(s)\n",
    "    # df_new['logging_type'] = df['logging_statement'].map(s).combine_first(df['type'].map(s))\n",
    "    # print(df)\n",
    "    # print(df_new)\n",
    "    #with pd.option_context('display.max_rows', None, 'display.max_columns', None):  # more options can be specified also\n",
    "    #print(pd.merge(df,df_new,  how='inner', on='logging_statement'))\n",
    "    #print(len(pd.merge(df, df_new, how='inner', on='logging_statement')))\n",
    "    #print(set(df.columns['logging_statement']).intersection(set(df_new.columns['logging_statement'])))\n",
    "    print(df_new.loc[df_new['logging_statement'].isin(df['logging_statement'])])"
   ]
  },
  {
   "cell_type": "code",
   "execution_count": null,
   "id": "a8d08ccc",
   "metadata": {},
   "outputs": [],
   "source": []
  }
 ],
 "metadata": {
  "kernelspec": {
   "display_name": "Python 3 (ipykernel)",
   "language": "python",
   "name": "python3"
  },
  "language_info": {
   "codemirror_mode": {
    "name": "ipython",
    "version": 3
   },
   "file_extension": ".py",
   "mimetype": "text/x-python",
   "name": "python",
   "nbconvert_exporter": "python",
   "pygments_lexer": "ipython3",
   "version": "3.9.12"
  }
 },
 "nbformat": 4,
 "nbformat_minor": 5
}
